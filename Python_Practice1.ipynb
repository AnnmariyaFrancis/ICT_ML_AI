{
  "cells": [
    {
      "cell_type": "markdown",
      "metadata": {
        "id": "view-in-github",
        "colab_type": "text"
      },
      "source": [
        "<a href=\"https://colab.research.google.com/github/AnnmariyaFrancis/ICT_ML_AI/blob/main/Python_Practice1.ipynb\" target=\"_parent\"><img src=\"https://colab.research.google.com/assets/colab-badge.svg\" alt=\"Open In Colab\"/></a>"
      ]
    },
    {
      "cell_type": "markdown",
      "source": [
        "1. Write a python program to convert temperature in Fahrenheit"
      ],
      "metadata": {
        "id": "m9TRjClIieYK"
      }
    },
    {
      "cell_type": "code",
      "execution_count": null,
      "metadata": {
        "colab": {
          "base_uri": "https://localhost:8080/"
        },
        "id": "J3kBzbNMlXos",
        "outputId": "7b616b8d-4b93-4f7a-8ad4-d21b0efea649"
      },
      "outputs": [
        {
          "name": "stdout",
          "output_type": "stream",
          "text": [
            "Temperature value in degree Celsius: 34\n",
            "The 34.00 degree Celsius is equal to: 93.20 Fahrenheit\n"
          ]
        }
      ],
      "source": [
        "\n",
        "celsius_1 = float(input(\"Temperature value in degree Celsius: \" ))  \n",
        " \n",
        "Fahrenheit_1 = (celsius_1 * 1.8) + 32  \n",
        "  \n",
        "print('The %.2f degree Celsius is equal to: %.2f Fahrenheit'  \n",
        "      %(celsius_1, Fahrenheit_1)) "
      ]
    },
    {
      "cell_type": "markdown",
      "source": [
        "2. WAP in python find the area of a triangle\n"
      ],
      "metadata": {
        "id": "khA7XsxViax6"
      }
    },
    {
      "cell_type": "code",
      "execution_count": null,
      "metadata": {
        "colab": {
          "base_uri": "https://localhost:8080/"
        },
        "id": "ZfIQWFacly3S",
        "outputId": "2d1e82ed-3483-4ad1-b601-68a63ea0e60f"
      },
      "outputs": [
        {
          "name": "stdout",
          "output_type": "stream",
          "text": [
            "side 1:5\n",
            "side 2:8\n",
            "side 3:7\n",
            "area of triangle 17.32\n"
          ]
        }
      ],
      "source": [
        "\n",
        "a=float(input(\"side 1:\"))\n",
        "b=float(input(\"side 2:\"))\n",
        "c=float(input(\"side 3:\"))\n",
        "s=(a+b+c)/2\n",
        "area = (s*(s-a)*(s-b)*(s-c)) ** 0.5 \n",
        "print(\"area of triangle %.2f\"%area)"
      ]
    },
    {
      "cell_type": "markdown",
      "source": [
        "3. Write a Python Program to accept the details of a student like name, roll number and\n",
        "mark and display it.\n",
        "Sample input: Enter the name: Anisha\n",
        "Enter the roll number: 21\n",
        "Enter the mark: 78\n",
        "Sample output:\n",
        "Name: Anisha\n",
        "Roll No: 21\n",
        "Mark: 78"
      ],
      "metadata": {
        "id": "3-Hbex5GiXNg"
      }
    },
    {
      "cell_type": "code",
      "execution_count": null,
      "metadata": {
        "colab": {
          "base_uri": "https://localhost:8080/"
        },
        "id": "3i1gJe9JmKfQ",
        "outputId": "3ef4177d-b461-4040-87b3-8902be4af5f4"
      },
      "outputs": [
        {
          "name": "stdout",
          "output_type": "stream",
          "text": [
            "Name:Anisha\n",
            "RollNo:21\n",
            "Mark:78\n"
          ]
        }
      ],
      "source": [
        "\n",
        "a=\"Name:Anisha\"\n",
        "b=\"RollNo:21\"\n",
        "c=\"Mark:78\"\n",
        "print(a)\n",
        "print(b)\n",
        "print(c)"
      ]
    },
    {
      "cell_type": "markdown",
      "source": [
        "4. Write a Python program to get the largest number from a list.\n",
        "Sample input: 12, 3, 47, 10\n",
        "Sample output: 47 is the largest number"
      ],
      "metadata": {
        "id": "BaZ4b7_RiTdo"
      }
    },
    {
      "cell_type": "code",
      "execution_count": null,
      "metadata": {
        "colab": {
          "background_save": true
        },
        "id": "tHwfwQFCmSlo"
      },
      "outputs": [],
      "source": [
        "\n",
        "list1=[12,3,47,10]\n",
        "print(max(list1),\"is the largest number\")"
      ]
    },
    {
      "cell_type": "markdown",
      "source": [
        "5 Write a python program to find the average of 5 numbers"
      ],
      "metadata": {
        "id": "F-5qbrKQiQtC"
      }
    },
    {
      "cell_type": "code",
      "execution_count": null,
      "metadata": {
        "colab": {
          "base_uri": "https://localhost:8080/"
        },
        "id": "Vf-VLdL_ngqp",
        "outputId": "1d2319b7-db81-4d39-9006-53b4af537632"
      },
      "outputs": [
        {
          "output_type": "execute_result",
          "data": {
            "text/plain": [
              "3.0"
            ]
          },
          "metadata": {},
          "execution_count": 9
        }
      ],
      "source": [
        "\n",
        "import math\n",
        "list1=[1,2,3,4,5]\n",
        "avg=sum(list1)/len(list1)\n",
        "avg"
      ]
    },
    {
      "cell_type": "markdown",
      "source": [
        "6. Python program to insert a number to any position in a list "
      ],
      "metadata": {
        "id": "N6We4cQuh1MC"
      }
    },
    {
      "cell_type": "code",
      "source": [
        "\n",
        "nums = [ 1, 2, 3, 4, 5 ]\n",
        "nums.insert(4, 10)\n",
        "print(nums)\n"
      ],
      "metadata": {
        "colab": {
          "base_uri": "https://localhost:8080/"
        },
        "id": "n5wKzTELO2Xq",
        "outputId": "96cb505f-ad66-43dd-a7ac-c98ce1efbe1f"
      },
      "execution_count": null,
      "outputs": [
        {
          "output_type": "stream",
          "name": "stdout",
          "text": [
            "[1, 2, 3, 4, 10, 5]\n"
          ]
        }
      ]
    },
    {
      "cell_type": "markdown",
      "source": [
        "7. Write a program to rename a key city to a location in the following dictionary.\n",
        "sample_dict = { \"name\": \"Kelly\", \"age\":25, \"salary\": 8000, \"city\": \"New york\"}"
      ],
      "metadata": {
        "id": "cpqRBNS_d7Io"
      }
    },
    {
      "cell_type": "code",
      "source": [
        "sample_dict = { \"name\": \"Kelly\", \"age\":25, \"salary\": 8000, \"city\": \"New york\"}\n",
        "sample_dict['location'] = sample_dict.pop('city')\n",
        "print(sample_dict)"
      ],
      "metadata": {
        "colab": {
          "base_uri": "https://localhost:8080/"
        },
        "id": "_BMUZfWvd6hI",
        "outputId": "682512c1-8188-4c6c-e111-67ec23645f5e"
      },
      "execution_count": null,
      "outputs": [
        {
          "output_type": "stream",
          "name": "stdout",
          "text": [
            "{'name': 'Kelly', 'age': 25, 'salary': 8000, 'location': 'New york'}\n"
          ]
        }
      ]
    },
    {
      "cell_type": "markdown",
      "source": [
        "8. Write a Python program to change Brad’s salary to 8500 in the following dictionary.\n",
        "sample_dict = {\n",
        " 'emp1': {'name': 'Jhon', 'salary': 7500},\n",
        " 'emp2': {'name': 'Emma', 'salary': 8000},\n",
        " 'emp3': {'name': 'Brad', 'salary': 500}\n",
        "}"
      ],
      "metadata": {
        "id": "Z-CfgH6WeHfp"
      }
    },
    {
      "cell_type": "code",
      "source": [
        "sample_dict = { 'emp1': {'name': 'Jhon', 'salary': 7500}, 'emp2': {'name': 'Emma', 'salary': 8000}, 'emp3': {'name': 'Brad', 'salary': 500} }\n",
        "sample_dict['emp3']['salary']=8500\n",
        "sample_dict"
      ],
      "metadata": {
        "colab": {
          "base_uri": "https://localhost:8080/"
        },
        "id": "DXzpdisPd09Q",
        "outputId": "c8efb8aa-7fda-4ac2-a9ad-57976b4c339b"
      },
      "execution_count": null,
      "outputs": [
        {
          "output_type": "execute_result",
          "data": {
            "text/plain": [
              "{'emp1': {'name': 'Jhon', 'salary': 7500},\n",
              " 'emp2': {'name': 'Emma', 'salary': 8000},\n",
              " 'emp3': {'name': 'Brad', 'salary': 8500}}"
            ]
          },
          "metadata": {},
          "execution_count": 19
        }
      ]
    },
    {
      "cell_type": "markdown",
      "source": [
        "9. Write a program to copy elements 44 and 55 from the following tuple into a new tuple. Given:\n",
        "tuple1 = (11, 22, 33, 44, 55, 66)"
      ],
      "metadata": {
        "id": "r990rVyGgqCE"
      }
    },
    {
      "cell_type": "code",
      "source": [
        "tuple1 = (11, 22, 33, 44, 55, 66)\n",
        "tuple1[3:5]\n"
      ],
      "metadata": {
        "colab": {
          "base_uri": "https://localhost:8080/"
        },
        "id": "fzp2KZpWgoQ-",
        "outputId": "b73b40a3-26cd-42e6-a16c-b21810676111"
      },
      "execution_count": null,
      "outputs": [
        {
          "output_type": "execute_result",
          "data": {
            "text/plain": [
              "(44, 55)"
            ]
          },
          "metadata": {},
          "execution_count": 23
        }
      ]
    },
    {
      "cell_type": "markdown",
      "source": [
        "10. Counts the number of occurrences of item 50 from a tuple\n",
        " tuple1 = (50, 10, 60, 70,\n",
        "50,83,567,50,81)"
      ],
      "metadata": {
        "id": "9TbEVUjEhN7q"
      }
    },
    {
      "cell_type": "code",
      "source": [
        "tuple1 = (50, 10, 60, 70,50,83,567,50,81)\n",
        "count = tuple1.count(50)  \n",
        "print(\"The number of occurrences of item 50:\",count)  "
      ],
      "metadata": {
        "colab": {
          "base_uri": "https://localhost:8080/"
        },
        "id": "XR2eSkKWhHOU",
        "outputId": "f0ce9013-ec93-43a8-99e2-98ff95753371"
      },
      "execution_count": null,
      "outputs": [
        {
          "output_type": "stream",
          "name": "stdout",
          "text": [
            "The number of occurrences of item 50: 3\n"
          ]
        }
      ]
    }
  ],
  "metadata": {
    "colab": {
      "provenance": [],
      "authorship_tag": "ABX9TyP1DfEQ7gOAhxBffE1DSs97",
      "include_colab_link": true
    },
    "kernelspec": {
      "display_name": "Python 3",
      "name": "python3"
    },
    "language_info": {
      "name": "python"
    }
  },
  "nbformat": 4,
  "nbformat_minor": 0
}